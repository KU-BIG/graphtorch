{
 "cells": [
  {
   "cell_type": "code",
   "execution_count": 1,
   "metadata": {},
   "outputs": [],
   "source": [
    "%matplotlib inline\n",
    "%load_ext autoreload\n",
    "%autoreload 2"
   ]
  },
  {
   "cell_type": "code",
   "execution_count": 2,
   "metadata": {},
   "outputs": [],
   "source": [
    "from graphtorch import SparseMatrix, SparseModel\n",
    "import numpy as np\n",
    "import torch \n",
    "import torch.nn as nn "
   ]
  },
  {
   "cell_type": "code",
   "execution_count": 18,
   "metadata": {},
   "outputs": [],
   "source": [
    "in_dim = 10\n",
    "out_dim = 3\n",
    "\n",
    "mat = [[0., 0., 0., 0., 0., 0., 0., 1., 0., 0., 0., 0.],\n",
    "      [0., 0., 2., 0., 0., 0., 0., 0., 0., 0., 0., 0.],\n",
    "      [1., 1., 1., 0., 0., 1., 1., 0., 0., 1., 0., 0.],\n",
    "      [0., 0., 0., 0., 0., 0., 0., 0., 1., 1., 0., 1.],\n",
    "      [0., 1., 0., 1., 0., 1., 1., 0., 1., 0., 1., 0.]]\n",
    "\n",
    "mat = np.array(mat)"
   ]
  },
  {
   "cell_type": "code",
   "execution_count": 19,
   "metadata": {},
   "outputs": [
    {
     "name": "stdout",
     "output_type": "stream",
     "text": [
      "(5, 12)\n"
     ]
    }
   ],
   "source": [
    "print(mat.shape)"
   ]
  },
  {
   "cell_type": "code",
   "execution_count": 21,
   "metadata": {},
   "outputs": [
    {
     "name": "stdout",
     "output_type": "stream",
     "text": [
      "start_col_idx:0\n",
      "finish_col_idx:9\n",
      "[]\n",
      "[2]\n"
     ]
    }
   ],
   "source": [
    "tmp = SparseMatrix(mat, in_dim, out_dim)\n",
    "print(tmp.hidden_dim) "
   ]
  },
  {
   "cell_type": "code",
   "execution_count": 17,
   "metadata": {},
   "outputs": [
    {
     "name": "stdout",
     "output_type": "stream",
     "text": [
      "start_col_idx:0\n",
      "finish_col_idx:2\n",
      "[]\n",
      "start_col_idx:3\n",
      "finish_col_idx:4\n",
      "[2]\n"
     ]
    }
   ],
   "source": [
    "mat4 = np.array([[3,0,1,0,0],\n",
    "                [0,3,0,0,0],\n",
    "                [0,0,0,2,0],\n",
    "                [0,0,0,0,2],\n",
    "                [0,0,1,2,0],\n",
    "                [0,0,1,0,0]])\n",
    "in_dim = 3\n",
    "out_dim = 4\n",
    "mat_wann4 = SparseMatrix(mat4, in_dim, out_dim)"
   ]
  },
  {
   "cell_type": "code",
   "execution_count": null,
   "metadata": {},
   "outputs": [],
   "source": []
  }
 ],
 "metadata": {
  "kernelspec": {
   "display_name": "Python 3",
   "language": "python",
   "name": "python3"
  },
  "language_info": {
   "codemirror_mode": {
    "name": "ipython",
    "version": 3
   },
   "file_extension": ".py",
   "mimetype": "text/x-python",
   "name": "python",
   "nbconvert_exporter": "python",
   "pygments_lexer": "ipython3",
   "version": "3.6.5"
  }
 },
 "nbformat": 4,
 "nbformat_minor": 2
}
